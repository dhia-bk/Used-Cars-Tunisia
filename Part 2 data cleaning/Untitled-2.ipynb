{
 "cells": [
  {
   "cell_type": "markdown",
   "metadata": {},
   "source": [
    "Each dataset was inspected and cleaned independently. this notebook includes some of the functions for data cleaning and feature engineering. The data cleaning process took most of the time spent on this project by far. "
   ]
  },
  {
   "cell_type": "code",
   "execution_count": null,
   "metadata": {},
   "outputs": [],
   "source": [
    "def translate_price(value):\n",
    "    value = value.replace('دينار','').replace(',','').replace(' ','')\n",
    "    value = int(value)\n",
    "    return value\n",
    "\n",
    "df['price'] = df['price'].apply(translate_price)"
   ]
  },
  {
   "cell_type": "code",
   "execution_count": null,
   "metadata": {},
   "outputs": [],
   "source": [
    "translation_dict = {\n",
    "    'إسونس': 'Gasoline',\n",
    "    'مازوت': 'Diesel',\n",
    "    'هجين': 'Hybrid',\n",
    "    'كهربائي': 'Electric'\n",
    "}\n",
    "\n",
    "df['نوع الوقود'] = df['نوع الوقود'].replace(translation_dict)"
   ]
  },
  {
   "cell_type": "code",
   "execution_count": null,
   "metadata": {},
   "outputs": [],
   "source": [
    "translation_dict = {\n",
    "    'يدوي': 'Manual',\n",
    "    'أوتوماتيكي': 'Automatic'\n",
    "}\n",
    "\n",
    "df['ناقل الحركة'] = df['ناقل الحركة'].replace(translation_dict)"
   ]
  },
  {
   "cell_type": "code",
   "execution_count": null,
   "metadata": {},
   "outputs": [],
   "source": [
    "def update_posting_dates(df, time_values):\n",
    "    df['posting date'] = df['posting date'].astype('object')\n",
    "    for index, value in enumerate(df['شكل السيارة']):\n",
    "        if value in time_values:\n",
    "            df.at[index, 'posting date'] = value\n",
    "\n",
    "# List of time-related values\n",
    "time_related_values = [\n",
    "    'منذ 2 أيام', 'منذ 5 ساعات', 'منذ ساعة', 'منذ 19 ساعات', 'منذ 9 ساعات', 'منذ 10 ساعات', \n",
    "    'منذ 4 أيام', 'منذ 24 ساعات', 'منذ يوم', 'منذ شهر', 'منذ 3 أيام', 'منذ 2 أشهر',\n",
    "    'منذ 6 ساعات', 'منذ 23 أيام', 'منذ 11 أيام', 'منذ 3 أشهر', 'منذ 9 أيام',\n",
    "    'منذ 7 أيام', 'منذ 5 أيام', 'منذ 13 أيام',\n",
    "    'منذ 21 أيام', 'منذ 6 أيام', 'منذ 12 أيام', 'منذ 14 أيام', 'منذ 15 أيام',\n",
    "    'منذ 16 أيام', 'منذ 22 أيام', 'منذ 17 أيام', 'منذ 24 أيام', 'منذ 18 أيام',\n",
    "    'منذ 19 أيام', 'منذ 25 أيام', 'منذ 20 أيام', 'منذ 26 أيام', 'منذ 6 أشهر',\n",
    "    'منذ 27 أيام', 'منذ 28 أيام', 'منذ 29 أيام', 'منذ 30 أيام', 'منذ 4 أشهر',\n",
    "    'منذ 8 أشهر', 'منذ 5 أشهر', 'منذ 8 أيام', 'منذ 10 أيام'\n",
    "]\n",
    "\n",
    "# Call the function to update the 'Posting Date' column\n",
    "update_posting_dates(df, time_related_values)"
   ]
  },
  {
   "cell_type": "code",
   "execution_count": null,
   "metadata": {},
   "outputs": [],
   "source": [
    "k = [ 'Blanc' , 'Noir',  'Gris', 'Rouge' ,'Doré', 'Bleu','Multicolore', 'Argent' , 'منذ شهر','Beige' , 'Vert', 'Berline' ,'Jaune' ,\n",
    " 'منذ 3 أشهر' , 'منذ 9 أيام' ,'Rose', 'منذ 2 أشهر' ,'Marron']\n",
    "\n",
    "df = df[~df['قوّة الحصان'].isin(k)]"
   ]
  },
  {
   "cell_type": "code",
   "execution_count": null,
   "metadata": {},
   "outputs": [],
   "source": [
    "v = [ 'منذ 2 أيام' , 'Berline','Compacte', 'منذ 4 أيام' , 'منذ 6 أيام' ,'Pick up',\n",
    " 'منذ 12 أيام', 'منذ 16 أيام', '4 x 4', 'منذ 20 أيام' ,'منذ 23 أيام', 'منذ شهر',\n",
    " 'منذ 26 أيام' , 'Utilitaire', 'Cabriolet', 'منذ 2 أشهر', 'منذ 3 أشهر',\n",
    " 'منذ 8 أيام' ,'منذ 9 أيام', 'منذ 17 أيام','منذ 3 أيام' ,\n",
    " 'منذ 7 أيام' ,'منذ 11 أيام', 'منذ 13 أيام' ,'منذ 24 أيام', 'منذ 25 أيام',\n",
    " 'منذ 27 أيام' ,'منذ 4 أشهر']\n",
    "\n",
    "\n",
    "df = df[~df['اللون'].isin(v)]"
   ]
  },
  {
   "cell_type": "code",
   "execution_count": null,
   "metadata": {},
   "outputs": [],
   "source": [
    "def km(value):\n",
    "    value = value.replace('كم','').replace(',','').replace(' ','')\n",
    "    value = int(value)\n",
    "    return value\n",
    "\n",
    "df['عدد الكيلومترات']= df['عدد الكيلومترات'].apply(km)"
   ]
  },
  {
   "cell_type": "code",
   "execution_count": null,
   "metadata": {},
   "outputs": [],
   "source": [
    "from datetime import datetime, timedelta\n",
    "\n",
    "# Set a fixed date variable \n",
    "current_date = datetime(2024, 3, 1)\n",
    "\n",
    "# Function to process the 'posting date' column\n",
    "def process_posting_date(value):\n",
    "    # If the value is NaN, return NaT\n",
    "    if pd.isna(value):\n",
    "        return pd.NaT\n",
    "\n",
    "    # Convert the string to lowercase for case-insensitive comparisons\n",
    "    lower_str = str(value).lower()\n",
    "    \n",
    "    # If the string contains 'ساعة' or 'ساعات', set the date to the current date\n",
    "    if 'ساعة' in lower_str or 'ساعات' in lower_str:\n",
    "        return current_date\n",
    "    \n",
    "    # If the string contains 'شهر' or 'أشهر', calculate the date based on the number of months\n",
    "    if 'شهر' in lower_str or 'أشهر' in lower_str:\n",
    "        months_str = ''.join(filter(str.isdigit, lower_str))\n",
    "        months = int(months_str) if months_str else 0\n",
    "        return current_date - timedelta(days=months * 30)\n",
    "    \n",
    "    # If the string contains 'يوم', calculate the date based on the number of days\n",
    "    if 'يوم' in lower_str or 'أيام'in lower_str:\n",
    "        days_str = ''.join(filter(str.isdigit, lower_str))\n",
    "        days = int(days_str) if days_str else 0\n",
    "        return current_date - timedelta(days=days)\n",
    "    \n",
    "    # If the string contains 'سنة', calculate the date based on the number of years\n",
    "    if 'سنة' in lower_str:\n",
    "        years_str = ''.join(filter(str.isdigit, lower_str))\n",
    "        years = int(years_str) if years_str else 0\n",
    "        return current_date - timedelta(days=years * 365)\n",
    "    \n",
    "    # Return NaT for other cases\n",
    "    return pd.NaT\n",
    "\n",
    "# Apply the function to the 'posting date' column\n",
    "df['posting date2'] = df['posting date'].apply(process_posting_date)"
   ]
  },
  {
   "cell_type": "code",
   "execution_count": null,
   "metadata": {},
   "outputs": [],
   "source": [
    "df['Kilometrage'] = df['Kilometrage'].astype(str)\n",
    "df['Kilometrage'] = df['Kilometrage'].str.replace(' ', '').str.replace('km', '')\n",
    "df['Kilometrage'] = pd.to_numeric(df['Kilometrage'], errors='coerce', downcast='integer')"
   ]
  },
  {
   "cell_type": "code",
   "execution_count": null,
   "metadata": {},
   "outputs": [],
   "source": [
    "df['Model'] = df.apply(lambda row: row['Titre'].replace(row['Fabricant'], '').strip(), axis=1)"
   ]
  },
  {
   "cell_type": "code",
   "execution_count": null,
   "metadata": {},
   "outputs": [],
   "source": [
    "def impute_année_nan(df):\n",
    "    # Replace '97' with '1997' in the 'Année' column\n",
    "    df['Année'] = df['Année'].replace('97', '1997')\n",
    "    \n",
    "    # Convert the 'Année' column to datetime, coercing errors to NaN for non-convertible entries\n",
    "    df['Année'] = pd.to_datetime(df['Année'], errors='coerce')\n",
    "    \n",
    "   \n",
    "    return df\n",
    "\n",
    "# Call the function to impute NaN values in the 'Année' column\n",
    "df = impute_année_nan(df)\n",
    "\n",
    "# Drop rows with NaN values in the 'Année' column\n",
    "df = df.dropna(subset=['Année'])"
   ]
  },
  {
   "cell_type": "code",
   "execution_count": null,
   "metadata": {},
   "outputs": [],
   "source": [
    "current_date = datetime(2023, 11, 26)\n",
    "\n",
    "# Remove 'ago' and leading/trailing whitespaces from the 'Date d'ajout' column\n",
    "df[\"Date d'ajout\"] = df[\"Date d'ajout\"].apply(lambda x: x.replace('ago', '').strip())\n",
    "\n",
    "# Function to process the 'Date d'ajout' column\n",
    "def process_date_dajout(value):\n",
    "    # Convert the string to lowercase for case-insensitive comparisons\n",
    "    lower_str = str(value).lower()\n",
    "    \n",
    "    # If the string contains 'hour' or 'hours', set the date to the current date\n",
    "    if 'hour' in lower_str or 'hours' in lower_str: \n",
    "        return current_date\n",
    "    \n",
    "    # If the string contains 'month' or 'months', calculate the date based on the number of months\n",
    "    if 'month' in lower_str or 'months' in lower_str:\n",
    "        months_str = ''.join(filter(str.isdigit, lower_str))\n",
    "        months = int(months_str) if months_str else 0\n",
    "        return current_date - timedelta(days=months * 30)\n",
    "    \n",
    "    # If the string contains 'day' or 'days', calculate the date based on the number of days\n",
    "    if 'day' in lower_str or 'days' in lower_str:\n",
    "        days_str = ''.join(filter(str.isdigit, lower_str))\n",
    "        days = int(days_str) if days_str else 0\n",
    "        return current_date - timedelta(days=days)\n",
    "    \n",
    "    # Return NaT (Not a Time) for other cases\n",
    "    return pd.NaT\n",
    "\n",
    "# Apply the function to the 'Date d'ajout' column\n",
    "df[\"Date d'ajout\"] = df[\"Date d'ajout\"].apply(process_date_dajout)"
   ]
  },
  {
   "cell_type": "code",
   "execution_count": null,
   "metadata": {},
   "outputs": [],
   "source": [
    "values_to_remove = ['2.0L','4' , '>4.0L','1.2L' ,'3.0L','Essence' ,'<1.0L', '2017' ,'1.3L' ,'2016' ,'1999',\n",
    " '2011', '5', '8','2012' ,  '1.6L' ,'2015' ,'1.8L' ,'9' ,'2009', '7', '1.4L', 'Man', '6','7.0', '1.5L','Diesel']\n",
    "\n",
    "df = df[~df['Marque'].isin(values_to_remove)]"
   ]
  },
  {
   "cell_type": "code",
   "execution_count": null,
   "metadata": {},
   "outputs": [],
   "source": [
    "df = df[(df['Kilométrage'] >= 0)]  # removing negative values \n",
    "df = df[~((df['Kilométrage'] <= 50000) & (df['Posting Year'] < 2022))]\n",
    "df = df[(df['Kilométrage'] < 1) | ((df['Kilométrage'] > 1000) & (df['Kilométrage'] <= 650000))]"
   ]
  },
  {
   "cell_type": "code",
   "execution_count": null,
   "metadata": {},
   "outputs": [],
   "source": [
    "df['prix'] = pd.to_numeric(df['prix'].str.replace('[^0-9]', '', regex=True), errors='coerce')\n",
    "incorrect_prices = (df['prix'] < 100) & (df['prix'] > 10)\n",
    "df.loc[incorrect_prices, 'prix'] *= 1000\n",
    "df = df[df['prix'].apply(lambda x: len(set(str(x))) != 1) & df['prix'].between(10000, 800000)]"
   ]
  },
  {
   "cell_type": "code",
   "execution_count": null,
   "metadata": {},
   "outputs": [],
   "source": [
    "df['Posting Month'] = df['date de publication'].dt.month\n",
    "df['Posting Year'] = df['date de publication'].dt.year\n",
    "month_names = {\n",
    "    1: 'January',\n",
    "    2: 'February',\n",
    "    3: 'March',\n",
    "    4: 'April',\n",
    "    5: 'May',\n",
    "    6: 'June',\n",
    "    7: 'July',\n",
    "    8: 'August',\n",
    "    9: 'September',\n",
    "    10: 'October',\n",
    "    11: 'November',\n",
    "    12: 'December'\n",
    "}\n",
    "df['Posting Month'] = df['Posting Month'].map(month_names)\n",
    "\n",
    "df = df.drop(columns=['date de publication'])"
   ]
  }
 ],
 "metadata": {
  "language_info": {
   "name": "python"
  }
 },
 "nbformat": 4,
 "nbformat_minor": 2
}
